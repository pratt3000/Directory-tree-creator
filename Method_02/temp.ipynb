{
 "cells": [
  {
   "cell_type": "code",
   "execution_count": 22,
   "source": [
    "import uuid\n",
    "\n",
    "# Contains information/attributes corresponding to each node\n",
    "uuid_to_name = {\n",
    "    str(uuid.uuid4()):'root',\n",
    "    str(uuid.uuid4()):'F1',\n",
    "    str(uuid.uuid4()):'F2',\n",
    "    str(uuid.uuid4()):'F3',\n",
    "    str(uuid.uuid4()):'F4',\n",
    "    str(uuid.uuid4()):'F5',\n",
    "    str(uuid.uuid4()):'F6',\n",
    "}\n",
    "name_to_uuid = {v: k for k, v in uuid_to_name.items()}\n",
    "\n",
    "uuid_to_name"
   ],
   "outputs": [
    {
     "output_type": "execute_result",
     "data": {
      "text/plain": [
       "{'b0db78bc-d567-4dee-9084-802601a210f5': 'root',\n",
       " '94facdbe-d15a-40a3-956f-d690d59e6bf5': 'F1',\n",
       " '48c4b980-5fcb-42d7-b3a7-939e6b465b40': 'F2',\n",
       " '5cff7dea-a242-4fe0-b6f2-ff43333eb79f': 'F3',\n",
       " '7f492e8e-b26b-4abc-bc0c-23b3865b2ee8': 'F4',\n",
       " '365dd989-8b46-4b00-9055-2ac7e8cced18': 'F5',\n",
       " '187009aa-c4fc-4996-90bc-691a390f32c3': 'F6'}"
      ]
     },
     "metadata": {},
     "execution_count": 22
    }
   ],
   "metadata": {}
  },
  {
   "cell_type": "code",
   "execution_count": 62,
   "source": [
    "tree = {'root':{'children':{'F1':{\n",
    "                                'children':{\n",
    "                                            'F4':{'children':{}, 'id':104,'parent':'F1'}, \n",
    "                                            'F5':{'children':{}, 'id':105, 'parent':'F1'}\n",
    "                                            },\n",
    "                                'id':101,\n",
    "                                'parent':'root'\n",
    "                                },\n",
    "                            'F2':{'children':{}, 'id':102, 'parent':'root'},\n",
    "                            'F3':{\n",
    "                                'children':{\n",
    "                                            'F6':{'children':{}, 'id':106, 'parent':'F3'}\n",
    "                                            },\n",
    "                                'id':103,\n",
    "                                'parent':'root'\n",
    "                                }\n",
    "                            },\n",
    "                'id': 100,\n",
    "                'parent': 'NaN'\n",
    "          }\n",
    "}"
   ],
   "outputs": [],
   "metadata": {}
  },
  {
   "cell_type": "code",
   "execution_count": 63,
   "source": [
    "list(tree.keys())"
   ],
   "outputs": [
    {
     "output_type": "execute_result",
     "data": {
      "text/plain": [
       "['root']"
      ]
     },
     "metadata": {},
     "execution_count": 63
    }
   ],
   "metadata": {}
  },
  {
   "cell_type": "code",
   "execution_count": 106,
   "source": [
    "def rename_node(tree, folder_name, dict_keys, folder_new_name):\n",
    "    try:\n",
    "        dict_keys = list(dict_keys)\n",
    "        while len(dict_keys) != 0:\n",
    "            \n",
    "            fold = dict_keys[0]\n",
    "            del dict_keys[0]\n",
    "            if folder_name == fold:\n",
    "                # rename the parent for its children\n",
    "                children_names = list(tree[fold]['children'].keys())\n",
    "                for child in children_names:\n",
    "                    tree[fold]['children'][child]['parent'] = folder_new_name\n",
    "\n",
    "                # renameing the parent\n",
    "                temp = tree[fold]\n",
    "                del tree[fold]\n",
    "                tree[folder_new_name] = temp\n",
    "                \n",
    "                print(tree)\n",
    "            rename_node(tree[fold]['children'], folder_name, tree[fold]['children'].keys(), folder_new_name)\n",
    "\n",
    "    except Exception as e:\n",
    "        print(e)\n",
    "    \n",
    "        \n",
    "    \n",
    "rename_node(tree, 'F1', ['root'], 'pratt')\n"
   ],
   "outputs": [
    {
     "output_type": "stream",
     "name": "stdout",
     "text": [
      "{'F2': {'children': {}, 'id': 102, 'parent': 'root'}, 'F3': {'children': {'F6': {'children': {}, 'id': 106, 'parent': 'F3'}}, 'id': 103, 'parent': 'root'}, 'pratt': {'children': {'F4': {'children': {}, 'id': 104, 'parent': 'pratt'}, 'F5': {'children': {}, 'id': 105, 'parent': 'pratt'}}, 'id': 101, 'parent': 'root'}}\n",
      "'F1'\n"
     ]
    }
   ],
   "metadata": {}
  },
  {
   "cell_type": "code",
   "execution_count": 81,
   "source": [
    "{'F2': {'children': {}, 'id': 102, 'parent': 'root'},\n",
    " 'F3': {'children': {'F6': {'children': {}, 'id': 106, 'parent': 'F3'}}, 'id': 103, 'parent': 'root'},\n",
    " 'pratt': {'children': {'F4': {'children': {}, 'id': 104, 'parent': 'pratt'}, 'F5': {'children': {}, 'id': 105, 'parent': 'pratt'}}, 'id': 101, 'parent': 'root'}}\n"
   ],
   "outputs": [
    {
     "output_type": "stream",
     "name": "stdout",
     "text": [
      "None\n"
     ]
    }
   ],
   "metadata": {}
  },
  {
   "cell_type": "code",
   "execution_count": 31,
   "source": [
    "counter = 107\n",
    "def add_node(path, new_folder_name):\n",
    "    path_list = list(filter(None, path.split('/')))\n",
    "    print(path_list)\n",
    "\n",
    "    temp_tree = tree\n",
    "    for i,folder_name in enumerate(path_list):\n",
    "        temp_tree = temp_tree[folder_name]['children']\n",
    "        if i==1:\n",
    "            print(temp_tree)\n",
    "            break\n",
    "        \n",
    "add_node('root/F1/F4/', 'lol')"
   ],
   "outputs": [
    {
     "output_type": "stream",
     "name": "stdout",
     "text": [
      "['root', 'F1', 'F4']\n",
      "{'F4': {'children': {}, 'id': 104, 'parent': 'F1'}, 'F5': {'children': {}, 'id': 105, 'parent': 'F1'}}\n"
     ]
    }
   ],
   "metadata": {}
  },
  {
   "cell_type": "code",
   "execution_count": null,
   "source": [],
   "outputs": [],
   "metadata": {}
  },
  {
   "cell_type": "code",
   "execution_count": null,
   "source": [
    "# create unique id for node\n",
    "    node_info[node_name] = {'id': uuid.uuid4()}\n",
    "\n",
    "    # create empty list as there are no children for newly created nodes\n",
    "    tree[node_info[node_name]['id']] = {'children':[], 'parent': parent_name}\n",
    "\n",
    "    # add node to the parent's children\n",
    "    tree[node_info[parent_name]['id']]['children'].append(node_name)"
   ],
   "outputs": [],
   "metadata": {}
  }
 ],
 "metadata": {
  "orig_nbformat": 4,
  "language_info": {
   "name": "python",
   "version": "3.9.5",
   "mimetype": "text/x-python",
   "codemirror_mode": {
    "name": "ipython",
    "version": 3
   },
   "pygments_lexer": "ipython3",
   "nbconvert_exporter": "python",
   "file_extension": ".py"
  },
  "kernelspec": {
   "name": "python3",
   "display_name": "Python 3.9.5 64-bit"
  },
  "interpreter": {
   "hash": "916dbcbb3f70747c44a77c7bcd40155683ae19c65e1c03b4aa3499c5328201f1"
  }
 },
 "nbformat": 4,
 "nbformat_minor": 2
}