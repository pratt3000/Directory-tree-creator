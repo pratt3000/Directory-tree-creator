{
 "cells": [
  {
   "cell_type": "code",
   "execution_count": 8,
   "source": [
    "import uuid\n",
    "import pprint\n",
    "\n",
    "pp = pprint.PrettyPrinter(indent=4)\n",
    "# Contains information/attributes corresponding to each node\n",
    "node_info = {'root': {'id': uuid.uuid4()},\n",
    "        'F1': {'id': uuid.uuid4()},\n",
    "        'F2': {'id': uuid.uuid4()},\n",
    "        'F3': {'id': uuid.uuid4()},\n",
    "        'F4': {'id': uuid.uuid4()},\n",
    "        'F5': {'id': uuid.uuid4()},\n",
    "        'F6': {'id': uuid.uuid4()},}\n",
    "\n",
    "# Defines structure of predefined tree\n",
    "tree = {\n",
    "    node_info['root']['id']: {'children': ['F1', 'F2', 'F3']},\n",
    "    node_info['F1']['id']: {'children': ['F4', 'F5']},\n",
    "    node_info['F2']['id']: {'children': []},\n",
    "    node_info['F3']['id']: {'children': ['F6']},\n",
    "    node_info['F4']['id']: {'children': []},\n",
    "    node_info['F5']['id']: {'children':[]},\n",
    "    node_info['F6']['id']: {'children':[]},\n",
    "}\n",
    "\n",
    "        \n",
    "\n",
    "\n",
    "tree[node_info[]]"
   ],
   "outputs": [
    {
     "output_type": "error",
     "ename": "TypeError",
     "evalue": "unhashable type: 'dict'",
     "traceback": [
      "\u001b[0;31m---------------------------------------------------------------------------\u001b[0m",
      "\u001b[0;31mTypeError\u001b[0m                                 Traceback (most recent call last)",
      "\u001b[0;32m/tmp/ipykernel_22302/786611598.py\u001b[0m in \u001b[0;36m<module>\u001b[0;34m\u001b[0m\n\u001b[1;32m     26\u001b[0m \u001b[0;34m\u001b[0m\u001b[0m\n\u001b[1;32m     27\u001b[0m \u001b[0;34m\u001b[0m\u001b[0m\n\u001b[0;32m---> 28\u001b[0;31m \u001b[0mtree\u001b[0m\u001b[0;34m[\u001b[0m\u001b[0mnode_info\u001b[0m\u001b[0;34m[\u001b[0m\u001b[0mlist\u001b[0m\u001b[0;34m(\u001b[0m\u001b[0mnode_info\u001b[0m\u001b[0;34m.\u001b[0m\u001b[0mkeys\u001b[0m\u001b[0;34m(\u001b[0m\u001b[0;34m)\u001b[0m\u001b[0;34m)\u001b[0m\u001b[0;34m[\u001b[0m\u001b[0;36m2\u001b[0m\u001b[0;34m]\u001b[0m\u001b[0;34m]\u001b[0m\u001b[0;34m]\u001b[0m\u001b[0;34m\u001b[0m\u001b[0;34m\u001b[0m\u001b[0m\n\u001b[0m",
      "\u001b[0;31mTypeError\u001b[0m: unhashable type: 'dict'"
     ]
    }
   ],
   "metadata": {}
  },
  {
   "cell_type": "code",
   "execution_count": 11,
   "source": [
    "tree[node_info[list(node_info.keys())[2]]['id']]"
   ],
   "outputs": [
    {
     "output_type": "execute_result",
     "data": {
      "text/plain": [
       "{'children': []}"
      ]
     },
     "metadata": {},
     "execution_count": 11
    }
   ],
   "metadata": {}
  },
  {
   "cell_type": "code",
   "execution_count": null,
   "source": [],
   "outputs": [],
   "metadata": {}
  }
 ],
 "metadata": {
  "orig_nbformat": 4,
  "language_info": {
   "name": "python",
   "version": "3.9.5",
   "mimetype": "text/x-python",
   "codemirror_mode": {
    "name": "ipython",
    "version": 3
   },
   "pygments_lexer": "ipython3",
   "nbconvert_exporter": "python",
   "file_extension": ".py"
  },
  "kernelspec": {
   "name": "python3",
   "display_name": "Python 3.9.5 64-bit"
  },
  "interpreter": {
   "hash": "916dbcbb3f70747c44a77c7bcd40155683ae19c65e1c03b4aa3499c5328201f1"
  }
 },
 "nbformat": 4,
 "nbformat_minor": 2
}